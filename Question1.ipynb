{
 "cells": [
  {
   "cell_type": "code",
   "execution_count": 40,
   "metadata": {},
   "outputs": [
    {
     "name": "stdout",
     "output_type": "stream",
     "text": [
      "a) It is possible that the price of the sneakers were not divided by the number of pairs sold. To figure out what went wrong, sum all the columns and calculate a fixed AOV value.\n",
      "order_id : $2500.50\n",
      "shop_id : $50.08\n",
      "user_id : $849.09\n",
      "order_amount : $3145.13\n",
      "total_items : $8.79\n",
      "payment_method : Not Applicable\n",
      "\n",
      "The fixed AOV value of $50.08 makes the most sense. Most likely, what had happend was that the shop_id was mistaken as the number of sneakers sold when calculating AOV.\n",
      "\n",
      "b) For the dataset given, assuming that the AOV is not given. I would report the average amount of sneakers sold over 100 shops in one day.\n",
      "\n",
      "c) The average amount of sneakers ordered per shop in a day is 5241.88 pairs.\n"
     ]
    }
   ],
   "source": [
    "import pandas as pd\n",
    "\n",
    "sneakerShopData = pd.read_excel(r'2019 Winter Data Science Intern Challenge Data Set.xlsx')\n",
    "\n",
    "print('a) It is possible that the price of the sneakers were not divided by the number of pairs sold. To figure out what went wrong, sum all the columns and calculate a fixed AOV value.')\n",
    "\n",
    "sumCol = sneakerShopData.sum(axis=0)\n",
    "for sum in sumCol.index:\n",
    "    if type(sumCol[sum]) == str:\n",
    "        print(sum, ': Not Applicable')\n",
    "    else:\n",
    "        fixed_AOV = 3145.13*sumCol[sum]/sumCol.order_amount\n",
    "        print(sum, ': $%.2f'%fixed_AOV)\n",
    "\n",
    "print('\\nThe fixed AOV value of $50.08 makes the most sense. Most likely, what had happend was that the shop_id was mistaken as the number of sneakers sold when calculating AOV.\\n')\n",
    "\n",
    "print('b) For the dataset given, assuming that the AOV is not given. I would report the average amount of sneakers sold over 100 shops in one day.\\n')\n",
    "\n",
    "AveShopOrderAmountPerDay = sumCol.order_amount/30/100\n",
    "print('c) The average amount of sneakers ordered per shop in a day is %.2f pairs.'%AveShopOrderAmountPerDay)"
   ]
  },
  {
   "cell_type": "code",
   "execution_count": null,
   "metadata": {},
   "outputs": [],
   "source": []
  }
 ],
 "metadata": {
  "kernelspec": {
   "display_name": "Python 3",
   "language": "python",
   "name": "python3"
  },
  "language_info": {
   "codemirror_mode": {
    "name": "ipython",
    "version": 3
   },
   "file_extension": ".py",
   "mimetype": "text/x-python",
   "name": "python",
   "nbconvert_exporter": "python",
   "pygments_lexer": "ipython3",
   "version": "3.8.5"
  }
 },
 "nbformat": 4,
 "nbformat_minor": 4
}
